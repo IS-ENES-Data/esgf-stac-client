{
 "cells": [
  {
   "cell_type": "code",
   "execution_count": 1,
   "id": "23935e86-9d3f-47bd-a6dd-99937cc281cd",
   "metadata": {
    "tags": []
   },
   "outputs": [],
   "source": [
    "from esgf_stac_client.client import ESGFStacClient\n",
    "client = ESGFStacClient.open(\"http://stac-test1.cloud.dkrz.de:8081\")\n",
    "\n",
    "#res = client.search(instance_id=\"CMIP6.HighResMIP.MOHC.HadGEM3-GC31-HH.highres-future.r1i1p1f1.day.tas.gn.v20191105\")\n",
    "res = client.search(q=\"CMIP6\")"
   ]
  },
  {
   "cell_type": "code",
   "execution_count": 2,
   "id": "cbf42a02-b55e-4b7f-9efa-4b2a503919e1",
   "metadata": {},
   "outputs": [
    {
     "data": {
      "text/plain": [
       "67"
      ]
     },
     "execution_count": 2,
     "metadata": {},
     "output_type": "execute_result"
    }
   ],
   "source": [
    "# How many matches?\n",
    "res.matched()"
   ]
  },
  {
   "cell_type": "code",
   "execution_count": 3,
   "id": "de628875-2373-47ac-9f83-0c5d3ad70a95",
   "metadata": {
    "tags": []
   },
   "outputs": [
    {
     "data": {
      "text/html": [
       "\n",
       "\n",
       "<div class=\"jp-RenderedHTMLCommon jp-RenderedHTML jp-mod-trusted jp-OutputArea-output\">\n",
       "    <div style=\"\n",
       "        width: 24px;\n",
       "        height: 24px;\n",
       "        background-color: #DBF5FF;\n",
       "        border: 3px solid #4CC9FF;\n",
       "        border-radius: 5px;\n",
       "        position: absolute;\">\n",
       "    </div>\n",
       "    <div>\n",
       "        <details style=\"margin-left: 48px;\">\n",
       "            <summary style=\"margin-bottom: 20px;\">\n",
       "                <h3 style=\"margin-bottom: 0px; display: inline;\">Item: 14e900eccb719f289e6bba3e4a7bb74e</h3>\n",
       "            </summary>\n",
       "            <table style=\"width: 100%; text-align: left;\">\n",
       "                <tr><td style=\"text-align: left;\"><strong>ID</strong>: 14e900eccb719f289e6bba3e4a7bb74e </td></tr>\n",
       "                \n",
       "                \n",
       "                \n",
       "                \n",
       "                    \n",
       "                        <tr><td style=\"text-align: left;\"><strong>mip_era:</strong> ['CMIP6'] </td></tr>\n",
       "                    \n",
       "                        <tr><td style=\"text-align: left;\"><strong>activity_id:</strong> ['CMIP'] </td></tr>\n",
       "                    \n",
       "                        <tr><td style=\"text-align: left;\"><strong>institution_id:</strong> ['AWI'] </td></tr>\n",
       "                    \n",
       "                        <tr><td style=\"text-align: left;\"><strong>source_id:</strong> ['AWI-CM-1-1-MR'] </td></tr>\n",
       "                    \n",
       "                        <tr><td style=\"text-align: left;\"><strong>table_id:</strong> ['Oyr'] </td></tr>\n",
       "                    \n",
       "                        <tr><td style=\"text-align: left;\"><strong>variable_id:</strong> ['opottemptend'] </td></tr>\n",
       "                    \n",
       "                        <tr><td style=\"text-align: left;\"><strong>experiment_id:</strong> ['historical'] </td></tr>\n",
       "                    \n",
       "                        <tr><td style=\"text-align: left;\"><strong>start_datetime:</strong> None </td></tr>\n",
       "                    \n",
       "                        <tr><td style=\"text-align: left;\"><strong>end_datetime:</strong> None </td></tr>\n",
       "                    \n",
       "                \n",
       "                \n",
       "        \n",
       "            <tr><td style=\"text-align: left;\"><strong>stac_extensions:</strong> [] </td></tr>\n",
       "        \n",
       "    \n",
       "            </table>\n",
       "            \n",
       "            \n",
       "            \n",
       "        <details>\n",
       "            <summary style=\"margin-bottom: 10px; margin-top: 10px\">\n",
       "                <h4 style=\"margin-bottom: 0px; display: inline;\">Links</h4>\n",
       "            </summary>\n",
       "            \n",
       "                \n",
       "\n",
       "<div class=\"jp-RenderedHTMLCommon jp-RenderedHTML jp-mod-trusted jp-OutputArea-output\">\n",
       "    <div style=\"\n",
       "        width: 24px;\n",
       "        height: 24px;\n",
       "        background-color: #FFF7E5;\n",
       "        border: 3px solid #FF6132;\n",
       "        border-radius: 5px;\n",
       "        position: absolute;\">\n",
       "    </div>\n",
       "    <div style=\"margin-left: 48px;\">\n",
       "        <h4 style=\"margin-bottom: 0px;\">Link: </h4>\n",
       "        \n",
       "        <table style=\"width: 100%; text-align: left;\">\n",
       "            <tr><td style=\"text-align: left;\"><strong>Rel:</strong> self </td></tr>\n",
       "            <tr><td style=\"text-align: left;\"><strong>Target:</strong> http://stac-test1.cloud.dkrz.de:8081/collections/cmip6onswift/items/14e900eccb719f289e6bba3e4a7bb74e </td></tr>\n",
       "            \n",
       "                <tr><td style=\"text-align: left;\"><strong>Media Type:</strong> application/geo+json </td></tr>\n",
       "            \n",
       "            \n",
       "        </table>\n",
       "        \n",
       "    </div>\n",
       "</div>\n",
       "            \n",
       "                \n",
       "\n",
       "<div class=\"jp-RenderedHTMLCommon jp-RenderedHTML jp-mod-trusted jp-OutputArea-output\">\n",
       "    <div style=\"\n",
       "        width: 24px;\n",
       "        height: 24px;\n",
       "        background-color: #FFF7E5;\n",
       "        border: 3px solid #FF6132;\n",
       "        border-radius: 5px;\n",
       "        position: absolute;\">\n",
       "    </div>\n",
       "    <div style=\"margin-left: 48px;\">\n",
       "        <h4 style=\"margin-bottom: 0px;\">Link: </h4>\n",
       "        \n",
       "        <table style=\"width: 100%; text-align: left;\">\n",
       "            <tr><td style=\"text-align: left;\"><strong>Rel:</strong> parent </td></tr>\n",
       "            <tr><td style=\"text-align: left;\"><strong>Target:</strong> http://stac-test1.cloud.dkrz.de:8081/collections/cmip6onswift </td></tr>\n",
       "            \n",
       "                <tr><td style=\"text-align: left;\"><strong>Media Type:</strong> application/json </td></tr>\n",
       "            \n",
       "            \n",
       "        </table>\n",
       "        \n",
       "    </div>\n",
       "</div>\n",
       "            \n",
       "                \n",
       "\n",
       "<div class=\"jp-RenderedHTMLCommon jp-RenderedHTML jp-mod-trusted jp-OutputArea-output\">\n",
       "    <div style=\"\n",
       "        width: 24px;\n",
       "        height: 24px;\n",
       "        background-color: #FFF7E5;\n",
       "        border: 3px solid #FF6132;\n",
       "        border-radius: 5px;\n",
       "        position: absolute;\">\n",
       "    </div>\n",
       "    <div style=\"margin-left: 48px;\">\n",
       "        <h4 style=\"margin-bottom: 0px;\">Link: </h4>\n",
       "        \n",
       "        <table style=\"width: 100%; text-align: left;\">\n",
       "            <tr><td style=\"text-align: left;\"><strong>Rel:</strong> collection </td></tr>\n",
       "            <tr><td style=\"text-align: left;\"><strong>Target:</strong> http://stac-test1.cloud.dkrz.de:8081/collections/cmip6onswift </td></tr>\n",
       "            \n",
       "                <tr><td style=\"text-align: left;\"><strong>Media Type:</strong> application/json </td></tr>\n",
       "            \n",
       "            \n",
       "        </table>\n",
       "        \n",
       "    </div>\n",
       "</div>\n",
       "            \n",
       "                \n",
       "\n",
       "<div class=\"jp-RenderedHTMLCommon jp-RenderedHTML jp-mod-trusted jp-OutputArea-output\">\n",
       "    <div style=\"\n",
       "        width: 24px;\n",
       "        height: 24px;\n",
       "        background-color: #FFF7E5;\n",
       "        border: 3px solid #FF6132;\n",
       "        border-radius: 5px;\n",
       "        position: absolute;\">\n",
       "    </div>\n",
       "    <div style=\"margin-left: 48px;\">\n",
       "        <h4 style=\"margin-bottom: 0px;\">Link: </h4>\n",
       "        \n",
       "            <p style=\"color: #9D9D9D; margin-bottom: 0px;\">STAC API Elasticsearch</p>\n",
       "        \n",
       "        <table style=\"width: 100%; text-align: left;\">\n",
       "            <tr><td style=\"text-align: left;\"><strong>Rel:</strong> root </td></tr>\n",
       "            <tr><td style=\"text-align: left;\"><strong>Target:</strong> <Client id=stac-fastapi> </td></tr>\n",
       "            \n",
       "                <tr><td style=\"text-align: left;\"><strong>Media Type:</strong> application/json </td></tr>\n",
       "            \n",
       "            \n",
       "        </table>\n",
       "        \n",
       "    </div>\n",
       "</div>\n",
       "            \n",
       "                \n",
       "\n",
       "<div class=\"jp-RenderedHTMLCommon jp-RenderedHTML jp-mod-trusted jp-OutputArea-output\">\n",
       "    <div style=\"\n",
       "        width: 24px;\n",
       "        height: 24px;\n",
       "        background-color: #FFF7E5;\n",
       "        border: 3px solid #FF6132;\n",
       "        border-radius: 5px;\n",
       "        position: absolute;\">\n",
       "    </div>\n",
       "    <div style=\"margin-left: 48px;\">\n",
       "        <h4 style=\"margin-bottom: 0px;\">Link: </h4>\n",
       "        \n",
       "        <table style=\"width: 100%; text-align: left;\">\n",
       "            <tr><td style=\"text-align: left;\"><strong>Rel:</strong> assets </td></tr>\n",
       "            <tr><td style=\"text-align: left;\"><strong>Target:</strong> http://stac-test1.cloud.dkrz.de:8081/collections/cmip6onswift/items/14e900eccb719f289e6bba3e4a7bb74e/assets </td></tr>\n",
       "            \n",
       "                <tr><td style=\"text-align: left;\"><strong>Media Type:</strong> application/json </td></tr>\n",
       "            \n",
       "            \n",
       "        </table>\n",
       "        \n",
       "    </div>\n",
       "</div>\n",
       "            \n",
       "        </details>\n",
       "    \n",
       "        </details>\n",
       "    </div>\n",
       "</div>"
      ],
      "text/plain": [
       "<Item id=14e900eccb719f289e6bba3e4a7bb74e>"
      ]
     },
     "execution_count": 3,
     "metadata": {},
     "output_type": "execute_result"
    }
   ],
   "source": [
    "item = next(res.items())\n",
    "item"
   ]
  },
  {
   "cell_type": "code",
   "execution_count": 4,
   "id": "c34ad685-fc52-4529-bc89-4929a3027144",
   "metadata": {
    "tags": []
   },
   "outputs": [],
   "source": [
    "ag = item.get_assets()\n",
    "assets = [asset for asset in ag]"
   ]
  },
  {
   "cell_type": "code",
   "execution_count": 5,
   "id": "7f262261-daca-4280-834e-ec1ab7b14e39",
   "metadata": {
    "tags": []
   },
   "outputs": [],
   "source": [
    "# assets[0].properties"
   ]
  },
  {
   "cell_type": "code",
   "execution_count": 6,
   "id": "0ac31d68-4b38-4db4-baae-60f19a908eca",
   "metadata": {
    "tags": []
   },
   "outputs": [
    {
     "data": {
      "text/plain": [
       "['https://swift.dkrz.de/v1/dkrz_0b2a0dcc-1430-4a8a-9f25-a6cb8924d92b/cmip6-zarr-2021/CMIP6.CMIP.AWI.AWI-CM-1-1-MR.historical.r1i1p1f1.Oyr.opottemptend.gn.v20181218']"
      ]
     },
     "execution_count": 6,
     "metadata": {},
     "output_type": "execute_result"
    }
   ],
   "source": [
    "file_ids = sorted(set([asset.properties[\"uri\"] for asset in assets]))\n",
    "file_ids"
   ]
  },
  {
   "cell_type": "markdown",
   "id": "13b46770-cfdd-4cf6-a9bc-1e0754c4c817",
   "metadata": {},
   "source": [
    "## define facets"
   ]
  },
  {
   "cell_type": "code",
   "execution_count": 7,
   "id": "3e95b37b-905a-4b56-bdff-cd17253558fa",
   "metadata": {
    "tags": []
   },
   "outputs": [
    {
     "data": {
      "text/plain": [
       "5"
      ]
     },
     "execution_count": 7,
     "metadata": {},
     "output_type": "execute_result"
    }
   ],
   "source": [
    "res = client.search(variable_id=\"ta\")\n",
    "res.matched()"
   ]
  },
  {
   "cell_type": "code",
   "execution_count": 8,
   "id": "995dc643-7ad5-4406-b819-6b5420329085",
   "metadata": {
    "tags": []
   },
   "outputs": [
    {
     "data": {
      "text/html": [
       "\n",
       "\n",
       "<div class=\"jp-RenderedHTMLCommon jp-RenderedHTML jp-mod-trusted jp-OutputArea-output\">\n",
       "    <div style=\"\n",
       "        width: 24px;\n",
       "        height: 24px;\n",
       "        background-color: #DBF5FF;\n",
       "        border: 3px solid #4CC9FF;\n",
       "        border-radius: 5px;\n",
       "        position: absolute;\">\n",
       "    </div>\n",
       "    <div>\n",
       "        <details style=\"margin-left: 48px;\">\n",
       "            <summary style=\"margin-bottom: 20px;\">\n",
       "                <h3 style=\"margin-bottom: 0px; display: inline;\">Item: 4fa311f0a8af508e3d90b254842bf906</h3>\n",
       "            </summary>\n",
       "            <table style=\"width: 100%; text-align: left;\">\n",
       "                <tr><td style=\"text-align: left;\"><strong>ID</strong>: 4fa311f0a8af508e3d90b254842bf906 </td></tr>\n",
       "                \n",
       "                \n",
       "                \n",
       "                \n",
       "                    \n",
       "                        <tr><td style=\"text-align: left;\"><strong>mip_era:</strong> ['CMIP6'] </td></tr>\n",
       "                    \n",
       "                        <tr><td style=\"text-align: left;\"><strong>activity_id:</strong> ['ScenarioMIP'] </td></tr>\n",
       "                    \n",
       "                        <tr><td style=\"text-align: left;\"><strong>institution_id:</strong> ['AWI'] </td></tr>\n",
       "                    \n",
       "                        <tr><td style=\"text-align: left;\"><strong>source_id:</strong> ['AWI-CM-1-1-MR'] </td></tr>\n",
       "                    \n",
       "                        <tr><td style=\"text-align: left;\"><strong>table_id:</strong> ['Amon'] </td></tr>\n",
       "                    \n",
       "                        <tr><td style=\"text-align: left;\"><strong>variable_id:</strong> ['tasmax', 'tas', 'rsutcs', 'rsdt', 'prw', 'vas', 'tauu', 'rsdscs', 'hfls', 'huss', 'va', 'ua', 'hurs', 'prc', 'prsn', 'rsds', 'psl', 'zg', 'ts', 'wap', 'clivi', 'tauv', 'ps', 'rlut', 'rsuscs', 'tasmin', 'evspsbl', 'hus', 'hfss', 'clwvi', 'rldscs', 'hur', 'sfcWind', 'cct', 'pr', 'rsut', 'rsus', 'rlds', 'rlus', 'clt', 'uas', 'ta', 'rlutcs'] </td></tr>\n",
       "                    \n",
       "                        <tr><td style=\"text-align: left;\"><strong>experiment_id:</strong> ['ssp370'] </td></tr>\n",
       "                    \n",
       "                        <tr><td style=\"text-align: left;\"><strong>start_datetime:</strong> None </td></tr>\n",
       "                    \n",
       "                        <tr><td style=\"text-align: left;\"><strong>end_datetime:</strong> None </td></tr>\n",
       "                    \n",
       "                \n",
       "                \n",
       "        \n",
       "            <tr><td style=\"text-align: left;\"><strong>stac_extensions:</strong> [] </td></tr>\n",
       "        \n",
       "    \n",
       "            </table>\n",
       "            \n",
       "            \n",
       "            \n",
       "        <details>\n",
       "            <summary style=\"margin-bottom: 10px; margin-top: 10px\">\n",
       "                <h4 style=\"margin-bottom: 0px; display: inline;\">Links</h4>\n",
       "            </summary>\n",
       "            \n",
       "                \n",
       "\n",
       "<div class=\"jp-RenderedHTMLCommon jp-RenderedHTML jp-mod-trusted jp-OutputArea-output\">\n",
       "    <div style=\"\n",
       "        width: 24px;\n",
       "        height: 24px;\n",
       "        background-color: #FFF7E5;\n",
       "        border: 3px solid #FF6132;\n",
       "        border-radius: 5px;\n",
       "        position: absolute;\">\n",
       "    </div>\n",
       "    <div style=\"margin-left: 48px;\">\n",
       "        <h4 style=\"margin-bottom: 0px;\">Link: </h4>\n",
       "        \n",
       "        <table style=\"width: 100%; text-align: left;\">\n",
       "            <tr><td style=\"text-align: left;\"><strong>Rel:</strong> self </td></tr>\n",
       "            <tr><td style=\"text-align: left;\"><strong>Target:</strong> http://stac-test1.cloud.dkrz.de:8081/collections/cmip6onswift/items/4fa311f0a8af508e3d90b254842bf906 </td></tr>\n",
       "            \n",
       "                <tr><td style=\"text-align: left;\"><strong>Media Type:</strong> application/geo+json </td></tr>\n",
       "            \n",
       "            \n",
       "        </table>\n",
       "        \n",
       "    </div>\n",
       "</div>\n",
       "            \n",
       "                \n",
       "\n",
       "<div class=\"jp-RenderedHTMLCommon jp-RenderedHTML jp-mod-trusted jp-OutputArea-output\">\n",
       "    <div style=\"\n",
       "        width: 24px;\n",
       "        height: 24px;\n",
       "        background-color: #FFF7E5;\n",
       "        border: 3px solid #FF6132;\n",
       "        border-radius: 5px;\n",
       "        position: absolute;\">\n",
       "    </div>\n",
       "    <div style=\"margin-left: 48px;\">\n",
       "        <h4 style=\"margin-bottom: 0px;\">Link: </h4>\n",
       "        \n",
       "        <table style=\"width: 100%; text-align: left;\">\n",
       "            <tr><td style=\"text-align: left;\"><strong>Rel:</strong> parent </td></tr>\n",
       "            <tr><td style=\"text-align: left;\"><strong>Target:</strong> http://stac-test1.cloud.dkrz.de:8081/collections/cmip6onswift </td></tr>\n",
       "            \n",
       "                <tr><td style=\"text-align: left;\"><strong>Media Type:</strong> application/json </td></tr>\n",
       "            \n",
       "            \n",
       "        </table>\n",
       "        \n",
       "    </div>\n",
       "</div>\n",
       "            \n",
       "                \n",
       "\n",
       "<div class=\"jp-RenderedHTMLCommon jp-RenderedHTML jp-mod-trusted jp-OutputArea-output\">\n",
       "    <div style=\"\n",
       "        width: 24px;\n",
       "        height: 24px;\n",
       "        background-color: #FFF7E5;\n",
       "        border: 3px solid #FF6132;\n",
       "        border-radius: 5px;\n",
       "        position: absolute;\">\n",
       "    </div>\n",
       "    <div style=\"margin-left: 48px;\">\n",
       "        <h4 style=\"margin-bottom: 0px;\">Link: </h4>\n",
       "        \n",
       "        <table style=\"width: 100%; text-align: left;\">\n",
       "            <tr><td style=\"text-align: left;\"><strong>Rel:</strong> collection </td></tr>\n",
       "            <tr><td style=\"text-align: left;\"><strong>Target:</strong> http://stac-test1.cloud.dkrz.de:8081/collections/cmip6onswift </td></tr>\n",
       "            \n",
       "                <tr><td style=\"text-align: left;\"><strong>Media Type:</strong> application/json </td></tr>\n",
       "            \n",
       "            \n",
       "        </table>\n",
       "        \n",
       "    </div>\n",
       "</div>\n",
       "            \n",
       "                \n",
       "\n",
       "<div class=\"jp-RenderedHTMLCommon jp-RenderedHTML jp-mod-trusted jp-OutputArea-output\">\n",
       "    <div style=\"\n",
       "        width: 24px;\n",
       "        height: 24px;\n",
       "        background-color: #FFF7E5;\n",
       "        border: 3px solid #FF6132;\n",
       "        border-radius: 5px;\n",
       "        position: absolute;\">\n",
       "    </div>\n",
       "    <div style=\"margin-left: 48px;\">\n",
       "        <h4 style=\"margin-bottom: 0px;\">Link: </h4>\n",
       "        \n",
       "            <p style=\"color: #9D9D9D; margin-bottom: 0px;\">STAC API Elasticsearch</p>\n",
       "        \n",
       "        <table style=\"width: 100%; text-align: left;\">\n",
       "            <tr><td style=\"text-align: left;\"><strong>Rel:</strong> root </td></tr>\n",
       "            <tr><td style=\"text-align: left;\"><strong>Target:</strong> <Client id=stac-fastapi> </td></tr>\n",
       "            \n",
       "                <tr><td style=\"text-align: left;\"><strong>Media Type:</strong> application/json </td></tr>\n",
       "            \n",
       "            \n",
       "        </table>\n",
       "        \n",
       "    </div>\n",
       "</div>\n",
       "            \n",
       "                \n",
       "\n",
       "<div class=\"jp-RenderedHTMLCommon jp-RenderedHTML jp-mod-trusted jp-OutputArea-output\">\n",
       "    <div style=\"\n",
       "        width: 24px;\n",
       "        height: 24px;\n",
       "        background-color: #FFF7E5;\n",
       "        border: 3px solid #FF6132;\n",
       "        border-radius: 5px;\n",
       "        position: absolute;\">\n",
       "    </div>\n",
       "    <div style=\"margin-left: 48px;\">\n",
       "        <h4 style=\"margin-bottom: 0px;\">Link: </h4>\n",
       "        \n",
       "        <table style=\"width: 100%; text-align: left;\">\n",
       "            <tr><td style=\"text-align: left;\"><strong>Rel:</strong> assets </td></tr>\n",
       "            <tr><td style=\"text-align: left;\"><strong>Target:</strong> http://stac-test1.cloud.dkrz.de:8081/collections/cmip6onswift/items/4fa311f0a8af508e3d90b254842bf906/assets </td></tr>\n",
       "            \n",
       "                <tr><td style=\"text-align: left;\"><strong>Media Type:</strong> application/json </td></tr>\n",
       "            \n",
       "            \n",
       "        </table>\n",
       "        \n",
       "    </div>\n",
       "</div>\n",
       "            \n",
       "        </details>\n",
       "    \n",
       "        </details>\n",
       "    </div>\n",
       "</div>"
      ],
      "text/plain": [
       "<Item id=4fa311f0a8af508e3d90b254842bf906>"
      ]
     },
     "execution_count": 8,
     "metadata": {},
     "output_type": "execute_result"
    }
   ],
   "source": [
    "item = next(res.items())\n",
    "item"
   ]
  },
  {
   "cell_type": "markdown",
   "id": "334d1b4f-1111-47d4-ae5a-be02afbae335",
   "metadata": {},
   "source": [
    "## mpi-ge"
   ]
  },
  {
   "cell_type": "code",
   "execution_count": 12,
   "id": "bae11bfb-459a-41b7-aedd-b65b1ca8f2b1",
   "metadata": {
    "tags": []
   },
   "outputs": [
    {
     "data": {
      "text/plain": [
       "1"
      ]
     },
     "execution_count": 12,
     "metadata": {},
     "output_type": "execute_result"
    }
   ],
   "source": [
    "res = client.search(project=\"MPI-GE\")\n",
    "res.matched()"
   ]
  },
  {
   "cell_type": "code",
   "execution_count": 13,
   "id": "5f952bba-cc4f-4729-81bc-1f35cada3ded",
   "metadata": {
    "tags": []
   },
   "outputs": [
    {
     "name": "stdout",
     "output_type": "stream",
     "text": [
      "{'project': ['MPI-GE'], 'product': ['output1'], 'institute': ['MPI-M'], 'model': ['MPI-ESM'], 'experiment': ['rcp26'], 'time_frequency': ['yr'], 'realm': ['ocnBgchem'], 'variable': ['po4'], 'ensemble': ['r006i2005p3'], 'version': ['v20190123'], 'start_datetime': None, 'end_datetime': None}\n"
     ]
    }
   ],
   "source": [
    "for item in res.items():\n",
    "    print(item.properties)\n"
   ]
  },
  {
   "cell_type": "code",
   "execution_count": 14,
   "id": "7c549a54-e36a-4282-9913-a8c95a081c25",
   "metadata": {
    "tags": []
   },
   "outputs": [],
   "source": [
    "ag = item.get_assets()\n",
    "assets = [asset for asset in ag]"
   ]
  },
  {
   "cell_type": "code",
   "execution_count": 15,
   "id": "66674ac8-1d3d-4dbc-9087-9853a62e1139",
   "metadata": {
    "tags": []
   },
   "outputs": [
    {
     "data": {
      "text/plain": [
       "['/work/mh1007/CMOR/MPI-GE/output1/MPI-M/MPI-ESM/rcp26/yr/ocnBgchem/po4/r006i2005p3/v20190123/po4_Oyr_MPI-ESM_rcp26_r006i2005p3_2006-2099.nc']"
      ]
     },
     "execution_count": 15,
     "metadata": {},
     "output_type": "execute_result"
    }
   ],
   "source": [
    "file_ids = sorted(set([asset.properties[\"uri\"] for asset in assets]))\n",
    "file_ids"
   ]
  }
 ],
 "metadata": {
  "kernelspec": {
   "display_name": "Python 3 (ipykernel)",
   "language": "python",
   "name": "python3"
  },
  "language_info": {
   "codemirror_mode": {
    "name": "ipython",
    "version": 3
   },
   "file_extension": ".py",
   "mimetype": "text/x-python",
   "name": "python",
   "nbconvert_exporter": "python",
   "pygments_lexer": "ipython3",
   "version": "3.9.16"
  }
 },
 "nbformat": 4,
 "nbformat_minor": 5
}
