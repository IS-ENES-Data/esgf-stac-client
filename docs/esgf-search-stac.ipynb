{
 "cells": [
  {
   "cell_type": "markdown",
   "id": "a5ed9ac2-1b62-493a-8842-aece9264e591",
   "metadata": {
    "tags": []
   },
   "source": [
    "# The ESGF Search STAC service\n",
    "\n",
    "## Overview\n",
    "\n",
    "This document provides examples of how the proposed ESGF-STAC-SEARCH service can we used via:\n",
    " 1. A Python client library\n",
    " 2. GET Requests made directly to the service API\n",
    " \n",
    "In order to compare to the existing ESGF Search service/client we have structured this page to match the existing ESGF Search API instructions which are located at:\n",
    "\n",
    "https://esgf.github.io/esg-search/ESGF_Search_RESTful_API.html#the-esgf-search-restful-api\n",
    "\n",
    "## Which data is being searched?\n",
    "\n",
    "Initially, we have indexed all the CMIP6 data held at the UK Data Node (CEDA) and the example searches work with that.\n",
    "\n",
    "The data volumes in this subset are:\n",
    "- Dataset (STAC Item) count: 677813\n",
    "- File (STAC Asset) count: 6137991\n",
    "\n",
    "## Syntax\n",
    "\n",
    "Existing version: https://esgf.github.io/esg-search/ESGF_Search_RESTful_API.html#syntax\n",
    "\n",
    "### New API\n",
    "\n",
    "The general syntax is:\n",
    "\n",
    "```\n",
    "https://api.stac.ceda.ac.uk/search?[keyword parameters as (name, value) pairs][facet parameters as (name,value) pairs]\n",
    "```\n",
    "\n",
    "All parameters (keyword and facet) are optional. Also, the value of all parameters must be URL-encoded, so that the complete search URL is well formed.\n",
    "\n",
    "### Python client\n",
    "\n",
    "First the client must be initialised as follows:"
   ]
  },
  {
   "cell_type": "code",
   "execution_count": 3,
   "outputs": [],
   "source": [
    "from esgf_stac_client.client import ESGFStacClient\n",
    "client = ESGFStacClient.open(\"https://api.stac.ceda.ac.uk\")"
   ],
   "metadata": {
    "collapsed": false,
    "pycharm": {
     "name": "#%%\n"
    }
   }
  },
  {
   "cell_type": "markdown",
   "source": [
    "Example of the basic Python client usage:\n",
    " - get collections"
   ],
   "metadata": {
    "collapsed": false,
    "pycharm": {
     "name": "#%% md\n"
    }
   }
  },
  {
   "cell_type": "code",
   "execution_count": null,
   "outputs": [],
   "source": [
    "client.get_collections()"
   ],
   "metadata": {
    "collapsed": false,
    "pycharm": {
     "name": "#%%\n"
    }
   }
  },
  {
   "cell_type": "markdown",
   "source": [
    " - item search"
   ],
   "metadata": {
    "collapsed": false,
    "pycharm": {
     "name": "#%% md\n"
    }
   }
  },
  {
   "cell_type": "code",
   "execution_count": null,
   "outputs": [],
   "source": [
    "client.search()"
   ],
   "metadata": {
    "collapsed": false,
    "pycharm": {
     "name": "#%%\n"
    }
   }
  },
  {
   "cell_type": "markdown",
   "source": [
    " - asset search"
   ],
   "metadata": {
    "collapsed": false,
    "pycharm": {
     "name": "#%% md\n"
    }
   }
  },
  {
   "cell_type": "code",
   "execution_count": null,
   "outputs": [],
   "source": [
    "client.asset_search()\n",
    "client.search(doctype=\"files\")"
   ],
   "metadata": {
    "collapsed": false,
    "pycharm": {
     "name": "#%%\n"
    }
   }
  },
  {
   "cell_type": "markdown",
   "source": [
    "Get STAC data from the search Object:"
   ],
   "metadata": {
    "collapsed": false,
    "pycharm": {
     "name": "#%% md\n"
    }
   }
  },
  {
   "cell_type": "code",
   "execution_count": null,
   "outputs": [],
   "source": [
    "search_result = client.search()\n",
    "\n",
    "# Call the items function to get the item generator object.\n",
    "for item in search_result.items():\n",
    "    item.to_dict()"
   ],
   "metadata": {
    "collapsed": false,
    "pycharm": {
     "name": "#%%\n"
    }
   }
  },
  {
   "cell_type": "markdown",
   "source": [
    "## Keywords\n",
    "\n",
    "Existing version: https://esgf.github.io/esg-search/ESGF_Search_RESTful_API.html#keywords\n",
    "\n",
    "### New API\n",
    "\n",
    "The following keywords are currently used by the system - see later for usage examples:\n",
    "\n",
    "- limit=, page= to paginate through available results. (default: limit=10, page=0)\n",
    "- filter=, filter_lang= to include a search query in the filter parameter. (default GET search: filter_lang=cql-text, filter=None)\n",
    "- fields= to return only specified metadata for fields for each matching result. (default: fields=*)\n",
    "  - (NOT YET IMPLEMENTED) The current system does not have the fields extension, use source= instead.\n",
    "- Doctype search, for STAC use the respective endpoints for datasets and files:\n",
    "  - Dataset search endpoint: https://api.stac.ceda.ac.uk/search\n",
    "  - File search endpoint: https://api.stac.ceda.ac.uk/asset/search\n",
    "- bbox=`[West,South,East,North]` to filter within a geo-spatial box. (default: bbox=None)\n",
    "- datetime=`start_datime/end_datetime OR datetime` to filter within a specified temporal range or point. (default: datetime=None)\n",
    "- ids= to list one or more current STAC object to filter on.\n",
    "- collections= to list one or more STAC collections to filter on.\n",
    "- intersects= to filter by any geo-json type. (default: intersects=None)\n",
    "- q= to filter by a string against values in the properties. (default: q=None)\n",
    "\n",
    "\n",
    "### Python client\n",
    "\n",
    "The following keywords are currently used by the Python Client - see later for usage examples:\n",
    "\n",
    "- method= to specify to run a POST or GET search request.\n",
    "- limit=, max_items= to specify the number of items to return in a response, limit is items per page and max_items is total return. (default: limit=100, max_items=100)\n",
    "- doctype=`\"file\"/\"datasets\"` to specify what type of document to return. (default: doctype=\"datasets\")\n",
    "- ids= to list one or more current STAC object to filter on.\n",
    "- collections= to list one or more STAC collections to filter on. (Only for item search)\n",
    "- items= to list one or more STAC item to filter on. (Only for asset search)\n",
    "- bbox=`[West,South,East,North]` to filter within a geo-spatial box. (default: bbox=None)\n",
    "- intersects= to filter by any geo-json type. (default: intersects=None)\n",
    "- datetime=`start_datime/end_datetime OR datetime` to filter within a specified temporal range or point. (default: datetime=None)\n",
    "- filter=, filter_lang= to include a search query in the filter parameter. (default GET search: filter_lang=cql-text, filter=None)\n",
    "- fields= to return only specified metadata for fields for each matching result. (default: fields=*)\n",
    "  - (NOT YET IMPLEMENTED) The current system does not have the fields extension, use source= instead.\n",
    "- q= to filter by a string against values in the properties. (default: q=None)"
   ],
   "metadata": {
    "collapsed": false,
    "pycharm": {
     "name": "#%% md\n"
    }
   }
  },
  {
   "cell_type": "markdown",
   "source": [
    "## Default Query\n",
    "\n",
    "Existing version: https://esgf.github.io/esg-search/ESGF_Search_RESTful_API.html#default-query\n",
    "\n",
    "If no parameters at all are specified, the search service will execute a query using all the default values, specifically:\n",
    "\n",
    "q=* (query all records)\n",
    "type=Dataset (return results of type “Dataset”)\n",
    "\n",
    "### New API\n",
    "\n",
    "If no parameters at all are specifed, the `/search` or `/assets/search` endpoints will execute a query using all the default values.\n",
    "\n",
    "### Python client\n",
    "\n",
    "If no parameters at all are specified, the `ESGFStacClient.search()` function will execute using all the default values, specifically:\n",
    "\n",
    "method=\"GET\" (perform a GET /search)\n",
    "fields=* (source=*, return all fields)\n",
    "doctype=datasets (return results of type \"Item\")"
   ],
   "metadata": {
    "collapsed": false
   }
  },
  {
   "cell_type": "markdown",
   "source": [
    "## Free Text Queries\n",
    "\n",
    "Existing version: https://esgf.github.io/esg-search/ESGF_Search_RESTful_API.html#free-text-queries\n",
    "\n",
    "Free-text queries are enabled in STAC using the free-text extension: https://api.stacspec.org/v1.0.0-beta.2/item-search/#free-text-search.\n",
    "This uses the keyword parameter `q=` to match a string to **all** fields in the properties. The\n",
    "string supports case-insensitivity and partial search with the wildcard char, *.\n",
    "\n",
    "### New API\n",
    "\n",
    "Search for any text, anywhere: https://api.stac.ceda.ac.uk/search?q=%2A (q=*, URL encoded)\n",
    "\n",
    "Search for \"humidity\" in all properties fields: https://api.stac.ceda.ac.uk/search?q=humidity\n",
    "\n",
    "Partial match for \"humid\\*\" in all properties fields: https://api.stac.ceda.ac.uk/search?q=humid%2A (q=humid\\*, URL encoded)\n",
    "\n",
    "### Python client\n",
    "\n",
    "Search for any text anywhere:"
   ],
   "metadata": {
    "collapsed": false
   }
  },
  {
   "cell_type": "code",
   "execution_count": null,
   "outputs": [],
   "source": [
    "client.search(q=\"*\")"
   ],
   "metadata": {
    "collapsed": false,
    "pycharm": {
     "name": "#%%\n"
    }
   }
  },
  {
   "cell_type": "markdown",
   "source": [
    "Search for \"humidity\" in all properties fields:"
   ],
   "metadata": {
    "collapsed": false,
    "pycharm": {
     "name": "#%% md\n"
    }
   }
  },
  {
   "cell_type": "code",
   "execution_count": null,
   "outputs": [],
   "source": [
    "client.search(q=\"humidity\")"
   ],
   "metadata": {
    "collapsed": false,
    "pycharm": {
     "name": "#%%\n"
    }
   }
  },
  {
   "cell_type": "markdown",
   "source": [
    "Partial match for \"humid\\*\" in all properties fields:"
   ],
   "metadata": {
    "collapsed": false,
    "pycharm": {
     "name": "#%% md\n"
    }
   }
  },
  {
   "cell_type": "code",
   "execution_count": null,
   "outputs": [],
   "source": [
    "client.search(q=\"humid*\")"
   ],
   "metadata": {
    "collapsed": false,
    "pycharm": {
     "name": "#%%\n"
    }
   }
  },
  {
   "cell_type": "markdown",
   "source": [
    "## Facet Queries\n",
    "\n",
    "Existing version: https://esgf.github.io/esg-search/ESGF_Search_RESTful_API.html#facet-queries\n",
    "\n",
    "Facet search is enabled using the `filter=` keyword parameter alongside `filter_lang=` to\n",
    "specify the common query language used. Default is `filter_lang='cql-text'` for a string\n",
    "based filter query using a GET search.\n",
    "\n",
    "filter= does not support temporal or spatial queries however can work alongside the datetime= and bbox= keyword\n",
    "parameters for additional temporal/spatial queries.\n",
    "\n",
    "### New API\n",
    "\n",
    "Single facet query: https://api.stac.ceda.ac.uk/search?filter=cf_standard_name+%3D+%27air_temperature%27&filter-lang=cql2-text\n",
    "\n",
    "Query with two different facet constraints: https://api.stac.ceda.ac.uk/search?filter=cf_standard_name+%3D+%27air_temperature%27+and+activity_id+%3D+%27CMIP%27&filter-lang=cql2-text\n",
    "\n",
    "Combining two values of the same facet with a logical OR: https://api.stac.ceda.ac.uk/search?filter=cf_standard_name+%3D+%27air_temperature%27+and+%28activity_id+%3D+%27CMIP%27+or+activity_id+%3D+%27AerChemMIP%27%29&filter-lang=cql2-text\n",
    "\n",
    "#### Using a negative facet:\n",
    "\n",
    "Search for all datasets that have variable ta OR hus, excluding those with acitivity_id  of AerChemMIP: https://api.stac.ceda.ac.uk/search?filter=activity_id%3C%3E%27AerChemMIP%27+AND+%28variable%3D%27hus%27+or+variable%3D%27ta%27%29&filter-lang=cql2-text\n",
    "\n",
    "Search for all datasets that have neither the variable ta OR hus: https://api.stac.ceda.ac.uk/search?filter=variable%3C%3E%27hus%27+and+variable%3C%3E%27ta%27&filter-lang=cql2-text\n",
    "\n",
    "Issue a query for all supported facets and their values at one site, while returning no results (note that only facets with one or more values are returned): https://api.stac.ceda.ac.uk/collections/cmip6/queryables\n",
    "\n",
    "### Python client\n",
    "\n",
    "Single facet query:"
   ],
   "metadata": {
    "collapsed": false
   }
  },
  {
   "cell_type": "code",
   "execution_count": null,
   "outputs": [],
   "source": [
    "client.search(cf_standard_name=\"air_temperature\")"
   ],
   "metadata": {
    "collapsed": false,
    "pycharm": {
     "name": "#%%\n"
    }
   }
  },
  {
   "cell_type": "markdown",
   "source": [
    "Query with two different facet constraints:"
   ],
   "metadata": {
    "collapsed": false,
    "pycharm": {
     "name": "#%% md\n"
    }
   }
  },
  {
   "cell_type": "code",
   "execution_count": null,
   "outputs": [],
   "source": [
    "client.search(cf_standard_name=\"air_temperature\", activity_id=\"CMIP\")"
   ],
   "metadata": {
    "collapsed": false,
    "pycharm": {
     "name": "#%%\n"
    }
   }
  },
  {
   "cell_type": "markdown",
   "source": [
    "Combining two values of the same facet with a logical OR:"
   ],
   "metadata": {
    "collapsed": false,
    "pycharm": {
     "name": "#%% md\n"
    }
   }
  },
  {
   "cell_type": "code",
   "execution_count": null,
   "outputs": [],
   "source": [
    "client.search(cf_standard_name=\"air_temperature\", activity_id=[\"CMIP\", \"AerChemMIP\"])"
   ],
   "metadata": {
    "collapsed": false,
    "pycharm": {
     "name": "#%%\n"
    }
   }
  },
  {
   "cell_type": "markdown",
   "source": [
    "#### Using a negative facet:\n",
    "\n",
    "For more complex queries using comparitors such as `<>`, `<=`, `>=` (not, lte, gte) the filter keyword\n",
    "parameter must be used directly. The filter parameter does **not** work alongside facets keyword args.\n",
    "The filter parameter can be in \"cql2-text\" string or \"cql2-json\" dict with the appropriate method=.\n",
    "\n",
    "Search for all datasets that have variable ta OR hus, excluding those with acitivity_id  of AerChemMIP:"
   ],
   "metadata": {
    "collapsed": false,
    "pycharm": {
     "name": "#%% md\n"
    }
   }
  },
  {
   "cell_type": "code",
   "execution_count": null,
   "outputs": [],
   "source": [
    "client.search(filter=\"activity_id<>'AerChemMIP' AND (variable='hus' or variable='ta')\")"
   ],
   "metadata": {
    "collapsed": false,
    "pycharm": {
     "name": "#%%\n"
    }
   }
  },
  {
   "cell_type": "markdown",
   "source": [
    "Search for all datasets that have neither the variable ta OR hus:"
   ],
   "metadata": {
    "collapsed": false,
    "pycharm": {
     "name": "#%% md\n"
    }
   }
  },
  {
   "cell_type": "code",
   "execution_count": null,
   "outputs": [],
   "source": [
    "client.search(filter=\"variable<>'hus' and variable<>'ta'\")"
   ],
   "metadata": {
    "collapsed": false,
    "pycharm": {
     "name": "#%%\n"
    }
   }
  },
  {
   "cell_type": "markdown",
   "source": [
    "Issue a query for all supported facets and their values at one site. The queryables extension is not supported by\n",
    "the python client. To get a list of all common facets and their values of a collection, they can be found in the\n",
    "summaries of a particular collection."
   ],
   "metadata": {
    "collapsed": false,
    "pycharm": {
     "name": "#%% md\n"
    }
   }
  },
  {
   "cell_type": "code",
   "execution_count": null,
   "outputs": [],
   "source": [
    "client.get_collection(collection_id='cmip6').summaries\n"
   ],
   "metadata": {
    "collapsed": false,
    "pycharm": {
     "name": "#%%\n"
    }
   }
  },
  {
   "cell_type": "markdown",
   "source": [
    "## Facet Listings\n",
    "\n",
    "Existing version: https://esgf.github.io/esg-search/ESGF_Search_RESTful_API.html#facet-listings\n",
    "\n",
    "The STAC /queryables endpoint is only supported on a per collection basis. It will return a JSON of **all** the facets and\n",
    "values listings.\n",
    "\n",
    "### New API\n",
    "\n",
    "List all the CMIP6 facet names and values: https://api.stac.ceda.ac.uk/collections/cmip6/queryables\n",
    "\n",
    "### Python client\n",
    "\n",
    "Queryables endpoint not supported by the Python Client."
   ],
   "metadata": {
    "collapsed": false
   }
  },
  {
   "cell_type": "markdown",
   "source": [
    "## Temporal Coverage Queries\n",
    "\n",
    "Existing version: https://esgf.github.io/esg-search/ESGF_Search_RESTful_API.html#temporal-coverage-queries\n",
    "\n",
    "Temporal search is applied with the \"datetime\" keyword parameter and uses the ISO 8601 format.\n",
    "\n",
    "### New API\n",
    "\n",
    "Single date search (equivalent to a range search from the start to the end of the day): https://api.stac.ceda.ac.uk/search?datetime=2300-01-01\n",
    "\n",
    "Single datetime search: https://api.stac.ceda.ac.uk/search?datetime=2300-01-01T00%3A00%3A00Z\n",
    "\n",
    "Open ended datetime search (GTE a datetime point): https://api.stac.ceda.ac.uk/search?datetime=2300-01-01T00%3A00%3A00Z%2F..\n",
    "\n",
    "Open begining datetime search (LTE a datetime point): https://api.stac.ceda.ac.uk/search?datetime=..%2F2800-12-01T00%3A00%3A00.000Z\n",
    "\n",
    "Complete range datetime search (GTE and LTE two datetime points): https://api.stac.ceda.ac.uk/search?datetime=2300-01-01T00%3A00%3A00Z%2F2800-12-01T00%3A00%3A00.000Z\n",
    "\n",
    "### Python client\n",
    "\n",
    "Single date search (equivalent to a range search from the start to the end of the day):"
   ],
   "metadata": {
    "collapsed": false
   }
  },
  {
   "cell_type": "code",
   "execution_count": null,
   "outputs": [],
   "source": [
    "client.search(datetime=\"2300-01-01\")"
   ],
   "metadata": {
    "collapsed": false,
    "pycharm": {
     "name": "#%%\n"
    }
   }
  },
  {
   "cell_type": "markdown",
   "source": [
    "Single datetime search:"
   ],
   "metadata": {
    "collapsed": false,
    "pycharm": {
     "name": "#%% md\n"
    }
   }
  },
  {
   "cell_type": "code",
   "execution_count": null,
   "outputs": [],
   "source": [
    "client.search(datetime=\"2300-01-01T00:00:00Z\")"
   ],
   "metadata": {
    "collapsed": false,
    "pycharm": {
     "name": "#%%\n"
    }
   }
  },
  {
   "cell_type": "markdown",
   "source": [
    "Open ended datetime search (GTE a datetime point):"
   ],
   "metadata": {
    "collapsed": false,
    "pycharm": {
     "name": "#%% md\n"
    }
   }
  },
  {
   "cell_type": "code",
   "execution_count": null,
   "outputs": [],
   "source": [
    "client.search(datetime=\"2300-01-01T00:00:00Z/..\")"
   ],
   "metadata": {
    "collapsed": false,
    "pycharm": {
     "name": "#%%\n"
    }
   }
  },
  {
   "cell_type": "markdown",
   "source": [
    "Open begining datetime search (LTE a datetime point):"
   ],
   "metadata": {
    "collapsed": false,
    "pycharm": {
     "name": "#%% md\n"
    }
   }
  },
  {
   "cell_type": "code",
   "execution_count": null,
   "outputs": [],
   "source": [
    "client.search(datetime=\"../2800-12-01T00:00:00.000Z\")"
   ],
   "metadata": {
    "collapsed": false,
    "pycharm": {
     "name": "#%%\n"
    }
   }
  },
  {
   "cell_type": "markdown",
   "source": [
    "Complete range datetime search (GTE and LTE two datetime points):"
   ],
   "metadata": {
    "collapsed": false,
    "pycharm": {
     "name": "#%% md\n"
    }
   }
  },
  {
   "cell_type": "code",
   "execution_count": null,
   "outputs": [],
   "source": [
    "client.search(datetime=\"2300-01-01T00:00:00Z/2800-12-01T00:00:00.000Z\")"
   ],
   "metadata": {
    "collapsed": false,
    "pycharm": {
     "name": "#%%\n"
    }
   }
  },
  {
   "cell_type": "markdown",
   "source": [
    "## Spatial Coverage Queries\n",
    "\n",
    "Existing version: https://esgf.github.io/esg-search/ESGF_Search_RESTful_API.html#spatial-coverage-queries\n",
    "\n",
    "Example: \n",
    "\n",
    "http://esgf-node.llnl.gov/esg-search/search?bbox=%5B-10,-10,+10,+10%5D (translates to: east_degrees:[-10 TO *] AND north_degrees:[-10 TO *] AND west_degrees:[* TO 10] AND south_degrees:[* TO 10])\n",
    "\n",
    "### New API\n",
    "\n",
    "https://api.stac.ceda.ac.uk/search?bbox=-180.0%2C-90%2C180.0%2C90.0 (translates to: west_degrees/min_longitude:[-180.0 TO *] AND south_degrees/min_latitude:[-90.0 TO *] AND east_degrees/max_longitude:[* TO 180.0] AND north_degrees/max_latitude:[* To 90.0])\n",
    "\n",
    "### Python client"
   ],
   "metadata": {
    "collapsed": false
   }
  },
  {
   "cell_type": "code",
   "execution_count": null,
   "outputs": [],
   "source": [
    "client.search(bbox=\"-180.0,-90,180.0,90.0\")"
   ],
   "metadata": {
    "collapsed": false,
    "pycharm": {
     "name": "#%%\n"
    }
   }
  },
  {
   "cell_type": "markdown",
   "source": [
    "## Distributed Queries\n",
    "\n",
    "Existing version: https://esgf.github.io/esg-search/ESGF_Search_RESTful_API.html#distributed-queries\n",
    "\n",
    "**NOT RELEVANT TO STAC (YET)**\n",
    "\n",
    "## Shard Queries\n",
    "\n",
    "Existing version: https://esgf.github.io/esg-search/ESGF_Search_RESTful_API.html#shard-queries\n",
    "\n",
    "**NOT RELEVANT TO STAC**\n",
    "\n",
    "## Replica Queries\n",
    "\n",
    "Existing version: https://esgf.github.io/esg-search/ESGF_Search_RESTful_API.html#replica-queries\n",
    "\n",
    "**NOT RELEVANT TO STAC**"
   ],
   "metadata": {
    "collapsed": false
   }
  },
  {
   "cell_type": "markdown",
   "source": [
    "## Latest and Version Queries\n",
    "\n",
    "Existing version: https://esgf.github.io/esg-search/ESGF_Search_RESTful_API.html#latest-and-version-queries\n",
    "\n",
    "By default, a query to the ESGF search services will return all versions of the matching records (Datasets or Files). To only return the very last, up-to-date version include latest=true . To return a specific version, use version=… . Using latest=false will return only datasets that were superseded by newer versions.\n",
    "\n",
    "Examples:\n",
    "\n",
    "Search for all latest CMIP5 datasets: http://esgf-node.llnl.gov/esg-search/search?project=CMIP5&latest=true\n",
    "\n",
    "Search for all versions of a given dataset: http://esgf-node.llnl.gov/esg-search/search?project=CMIP5&master_id=cmip5.output1.MOHC.HadCM3.decadal1972.day.atmos.day.r10i2p1&facets=version\n",
    "\n",
    "Search for a specific version of a given dataset: http://esgf-node.llnl.gov/esg-search/search?project=CMIP5&master_id=cmip5.output1.NSF-DOE-NCAR.CESM1-CAM5-1-FV2.historical.mon.atmos.Amon.r1i1p1&version=20120712\n",
    "\n",
    "### New API\n",
    "\n",
    "At the file level is the record of latest saved, the item is an aggregate of assets with common filepath metadata.\n",
    "\n",
    "1. **latest is not aggregated up to items**\n",
    "\n",
    "2. **filter via boolean value not implemented to add to a filter query, the filter evaluation\n",
    "defaults to \"properties__{filter}__keyword\", thus only supports keyword filtering**\n",
    "\n",
    "### Python client"
   ],
   "metadata": {
    "collapsed": false,
    "pycharm": {
     "name": "#%% md\n"
    }
   }
  },
  {
   "cell_type": "markdown",
   "source": [
    "## Retracted Queries\n",
    "\n",
    "Existing version: https://esgf.github.io/esg-search/ESGF_Search_RESTful_API.html#retracted-queries\n",
    "\n",
    "Example:\n",
    "\n",
    "Search for all retracted datasets in the CMIP5 project, across all nodes: https://esgf-node.llnl.gov/esg-search/search?project=CMIP5&retracted=true\n",
    "\n",
    "### New API\n",
    "\n",
    "**Same points as above**\n",
    "\n",
    "### Python client\n"
   ],
   "metadata": {
    "collapsed": false,
    "pycharm": {
     "name": "#%% md\n"
    }
   }
  },
  {
   "cell_type": "markdown",
   "source": [
    "## Minimum and Maximum Version Queries\n",
    "\n",
    "Existing version: https://esgf.github.io/esg-search/ESGF_Search_RESTful_API.html#minimum-and-maximum-version-queries\n",
    "\n",
    "**NOT RELEASED IN SOLR - IGNORING IN STAC**"
   ],
   "metadata": {
    "collapsed": false,
    "pycharm": {
     "name": "#%% md\n"
    }
   }
  },
  {
   "cell_type": "markdown",
   "source": [
    "## Results Pagination\n",
    "\n",
    "Existing version: https://esgf.github.io/esg-search/ESGF_Search_RESTful_API.html#results-pagination\n",
    "\n",
    "By default, a query to the search service will return the first 10 records matching the given constraints. The offset into the returned results, and the total number of returned results, can be changed through the keyword parameters limit= and offset= . The system imposes a maximum value of limit <= 10,000.\n",
    "\n",
    "Examples:\n",
    "\n",
    "Query for 100 CMIP5 datasets in the system: http://esgf-node.llnl.gov/esg-search/search?project=CMIP5&limit=100\n",
    "\n",
    "Query for the next 100 CMIP5 datasets in the system: http://esgf-node.llnl.gov/esg-search/search?project=CMIP5&limit=100&offset=100\n",
    "\n",
    "\n",
    "### New API\n",
    "\n",
    "Query for 100 CMIP6 datasets in the system: https://api.stac.ceda.ac.uk/search?limit=100\n",
    "\n",
    "Query for the next 100 CMIP6 datasets in the system: https://api.stac.ceda.ac.uk/search?limit=100&page=2\n",
    "\n",
    "### Python client\n",
    "\n",
    "The python client hides pagination via generators. A page is equivalent to an ItemCollection.\n",
    "\n",
    "The client will paginate intrinsically when iterating through the generator. The limit= parameter\n",
    "will dictate the number of items per ItemCollection.\n",
    "\n",
    "To iterate through pages:"
   ],
   "metadata": {
    "collapsed": false,
    "pycharm": {
     "name": "#%% md\n"
    }
   }
  },
  {
   "cell_type": "code",
   "execution_count": null,
   "outputs": [],
   "source": [
    "result = client.search()\n",
    "for page in result.item_collections():\n",
    "    for items in page.items:\n",
    "        ..."
   ],
   "metadata": {
    "collapsed": false,
    "pycharm": {
     "name": "#%%\n"
    }
   }
  },
  {
   "cell_type": "markdown",
   "source": [
    "However, if only iterating through items, there is no need for iterating through the pages.\n",
    "Directly iterate through all the items:"
   ],
   "metadata": {
    "collapsed": false,
    "pycharm": {
     "name": "#%% md\n"
    }
   }
  },
  {
   "cell_type": "code",
   "execution_count": null,
   "outputs": [],
   "source": [
    "result = client.search()\n",
    "for item in result.items():\n",
    "    ..."
   ],
   "metadata": {
    "collapsed": false,
    "pycharm": {
     "name": "#%%\n"
    }
   }
  },
  {
   "cell_type": "markdown",
   "source": [
    "## Output Format\n",
    "\n",
    "Existing version: https://esgf.github.io/esg-search/ESGF_Search_RESTful_API.html#output-format\n",
    "\n",
    "**ONLY JSON FORMAT AVAILABLE IN STAC**\n",
    "\n",
    "### Python Client\n",
    "\n",
    "The python client can return items as [PySTAC](https://github.com/stac-utils/pystac) object or\n",
    "as a dictionary representation of the JSON.\n"
   ],
   "metadata": {
    "collapsed": false,
    "pycharm": {
     "name": "#%% md\n"
    }
   }
  },
  {
   "cell_type": "markdown",
   "source": [
    "## Returned Metadata Fields\n",
    "\n",
    "Existing version: https://esgf.github.io/esg-search/ESGF_Search_RESTful_API.html#returned-metadata-fields\n",
    "\n",
    "By default, all available metadata fields are returned for each result. The keyword parameter fields= can be used to limit the number of fields returned in the response document, for each matching result. The list must be comma-separated, and white spaces are ignored. Use fields=* to return all fields (same as not specifiying it, since it is the default). Note that the pseudo field “score” is always appended to any fields list.\n",
    "\n",
    "Examples:\n",
    "\n",
    "Return all available metadata fields for CMIP5 datasets: http://esgf-node.llnl.gov/esg-search/search?project=CMIP5&fields=*\n",
    "\n",
    "Return only the “model” and “experiment” fields for CMIP5 datasets: http://esgf-node.llnl.gov/esg-search/search?project=CMIP5&fields=model,experiment\n",
    "\n",
    "\n",
    "### New API\n",
    "\n",
    "Default: return all available metadata fields for CMIP6 datasets.\n",
    "\n",
    "Return only the model and experiment properties' fields for CMIP6 datasets using the fields= keyword: https://api.stac.ceda.ac.uk/search?fields=%2Bproperties.model%2C%2Bproperties.experiment\n",
    "\n",
    "### Python client\n",
    "\n",
    "Return only the model and experiment properties' field for CMIP6 datasets using the fields= keyword:\n",
    "\n",
    "*Note that this may return an invalid STAC objects, use the `items_as_dicts()` to bypass object unmarshalling errors.\n",
    "This will not return Item objects, rather just the dictionary representation thus reducing certain functionalities.\n",
    "In this instance, this calls a generator that yields dictionary objects.*"
   ],
   "metadata": {
    "collapsed": false,
    "pycharm": {
     "name": "#%% md\n"
    }
   }
  },
  {
   "cell_type": "code",
   "execution_count": null,
   "outputs": [],
   "source": [
    "results = client.search(fields=\"properties.model,properties.experiments\")\n",
    "for item in results.items_as_dicts():\n",
    "    ..."
   ],
   "metadata": {
    "collapsed": false,
    "pycharm": {
     "name": "#%%\n"
    }
   }
  },
  {
   "cell_type": "markdown",
   "source": [
    "## Identifiers\n",
    "\n",
    "Existing version: https://esgf.github.io/esg-search/ESGF_Search_RESTful_API.html#identifiers\n",
    "\n",
    "Each search record in the system is assigned the following identifiers (all of type string):\n",
    "\n",
    "id : universally unique for each record across the federation, i.e. specific to each Dataset or File, version and replica (and the data node storing the data). It is intended to be “opaque”, i.e. it should not be parsed by clients to extract any information.\n",
    "\n",
    "Dataset example: id=obs4MIPs.NASA-JPL.TES.tro3.mon.v20110608|esgf-data.llnl.gov\n",
    "\n",
    "File example: id=obs4MIPs.NASA-JPL.TES.tro3.mon.v20110608.tro3Stderr_TES_L3_tbd_200507-200912.nc|esgf-data.llnl.gov\n",
    "\n",
    "master_id : same for all replicas and versions across the federation. When parsing THREDDS catalogs, it is extracted from the properties “dataset_id” or “file_id”.\n",
    "\n",
    "Dataset example: obs4MIPs.NASA-JPL.TES.tro3.mon (for a Dataset)\n",
    "\n",
    "File example: obs4MIPs.NASA-JPL.TES.tro3.mon.tro3Stderr_TES_L3_tbd_200507-200912.nc\n",
    "\n",
    "instance_id : same for all replicas across federation, but specific to each version. When parsing THREDDS catalogs, it is extracted from the ID attribute of the corresponding THREDDS catalog element (for both Datasets and Files).\n",
    "\n",
    "Dataset example: obs4MIPs.NASA-JPL.TES.tro3.mon.v20110608\n",
    "\n",
    "File example: obs4MIPs.NASA-JPL.TES.tro3.mon.v20110608.tro3Stderr_TES_L3_tbd_200507-200912.nc\n",
    "\n",
    "Note also that the record version is the same for all replicas of that record, but different across versions. Examples:\n",
    "\n",
    "Dataset example: version=20110608\n",
    "\n",
    "File example: version=1\n",
    "\n",
    "### New API\n",
    "\n",
    "id: A universally unique identifier for each collections, items and assets (projects, datasets, files). Can be used to\n",
    "browse the API for a specific: `https://api.ceda.stac.ac.uk/collections/<collection id>/[items/<item id>/[assets/<asset_id>]]`\n",
    "(the id of STAC documents are a hash.)\n",
    "\n",
    "For all other ids; master_id, instance_id, can be searched using filter=\n",
    "\n",
    "### Python client\n",
    "\n",
    "id: Get a STAC document by id using the client (Each get method will return the respective object):"
   ],
   "metadata": {
    "collapsed": false,
    "pycharm": {
     "name": "#%% md\n"
    }
   }
  },
  {
   "cell_type": "code",
   "execution_count": null,
   "outputs": [],
   "source": [
    "client.get_collection(collection_id).get_item(item_id).get_asset(asset_id)"
   ],
   "metadata": {
    "collapsed": false,
    "pycharm": {
     "name": "#%%\n"
    }
   }
  },
  {
   "cell_type": "markdown",
   "source": [
    "## Access URLs\n",
    "\n",
    "Existing version: https://esgf.github.io/esg-search/ESGF_Search_RESTful_API.html#access-urls\n",
    "\n",
    "In the Solr output document returned by a search, URLs that are access points for Datasets and Files are encoded as 3-tuple of the form “url|mime type|service name”, where the fields are separated by the “pipe (”|“) character, and the”mime type” and “service name” are chosen from the ESGF controlled vocabulary.\n",
    "\n",
    "Example of Dataset access URLs:\n",
    "\n",
    "THREDDS catalog: http://esgf-data.llnl.gov/thredds/catalog/esgcet/1/obs4MIPs.NASA-JPL.TES.tro3.mon.v20110608.xml#obs4MIPs.NASA-JPL.TES.tro3.mon.v20110608|application/xml+thredds|THREDDS\n",
    "\n",
    "LAS server: http://esgf-node.llnl.gov/las/getUI.do?catid=0C5410C250379F2D139F978F7BF48BB9_ns_obs4MIPs.NASA-JPL.TES.tro3.mon.v20110608|application/las|LAS\n",
    "\n",
    "Example of File access URLs:\n",
    "\n",
    "HTTP download: http://esgf-data.llnl.gov/thredds/fileServer/esg_dataroot/obs4MIPs/observations/atmos/tro3Stderr/mon/grid/NASA-JPL/TES/v20110608/tro3Stderr_TES_L3_tbd_200507-200912.nc|application/netcdf|HTTPServer\n",
    "\n",
    "GridFTP download: gsiftp://esgf-data.llnl.gov:2811//esg_dataroot/obs4MIPs/observations/atmos/tro3Stderr/mon/grid/NASA-JPL/TES/v20110608/tro3Stderr_TES_L3_tbd_200507-200912.nc|application/gridftp|GridFTP\n",
    "\n",
    "OpenDAP download: http://esgf-data.llnl.gov/thredds/dodsC/esg_dataroot/obs4MIPs/observations/atmos/tro3Stderr/mon/grid/NASA-JPL/TES/v20110608/tro3Stderr_TES_L3_tbd_200507-200912.nc.html|application/opendap-html|OPENDAP\n",
    "\n",
    "Globus As-A-Service download: globus:e3f6216e-063e-11e6-a732-22000bf2d559/esg_dataroot/obs4MIPs/observations/atmos/tro3Stderr/mon/grid/NASA-JPL/TES/v20110608/tro3Stderr_TES_L3_tbd_200507-200912.nc|Globus|Globus\n",
    "\n",
    "### New API\n",
    "\n",
    "For STAC all urls are at the Asset level. An Item can access it's assets with the assets endpoint: https://api.stac.ceda.ac.uk/collections/<collection_id>/items/<item_id>/assets/[<asset_id>]\n",
    "\n",
    "This will return a JSON representation and the default in the \"href\" field is the access URL for HTTP download.\n",
    "\n",
    "### Python client\n",
    "\n",
    "The object representation of an Asset is <{id} {href}> where href is the access URL for HTTP download. Alternatively,\n",
    "the access URL is an attribute of the Asset class: `href`"
   ],
   "metadata": {
    "collapsed": false,
    "pycharm": {
     "name": "#%% md\n"
    }
   }
  },
  {
   "cell_type": "code",
   "execution_count": 6,
   "outputs": [
    {
     "data": {
      "text/plain": "'http://esgf-data3.ceda.ac.uk/thredds/fileServer/esg_cmip6/CMIP6/CMIP/EC-Earth-Consortium/EC-Earth3-Veg-LR/piControl/r1i1p1f1/Amon/rsds/gr/v20200213/rsds_Amon_EC-Earth3-Veg-LR_piControl_r1i1p1f1_gr_238901-238912.nc'"
     },
     "execution_count": 6,
     "metadata": {},
     "output_type": "execute_result"
    }
   ],
   "source": [
    "collection_id = \"cmip6\"\n",
    "item_id = \"c2d94dd296525cc105cfa657b6b559c0\"\n",
    "asset_id = \"03cd0a42604287aa08bde5aabeb6c167\"\n",
    "\n",
    "asset = client.get_collection(collection_id).get_item(item_id).get_asset(asset_id)\n",
    "asset.href"
   ],
   "metadata": {
    "collapsed": false,
    "pycharm": {
     "name": "#%%\n"
    }
   }
  },
  {
   "cell_type": "markdown",
   "source": [
    "## Wget scripting\n",
    "\n",
    "Existing version: https://esgf.github.io/esg-search/ESGF_Search_RESTful_API.html#wget-scripting\n",
    "\n",
    "**NOT IMPLEMENTED FOR STAC - IS IT NEEDED?**"
   ],
   "metadata": {
    "collapsed": false,
    "pycharm": {
     "name": "#%% md\n"
    }
   }
  },
  {
   "cell_type": "code",
   "execution_count": null,
   "id": "afeddaaf-7f01-4a68-951f-564591761aee",
   "metadata": {},
   "outputs": [],
   "source": []
  }
 ],
 "metadata": {
  "kernelspec": {
   "name": "python3",
   "language": "python",
   "display_name": "Python 3 (ipykernel)"
  },
  "language_info": {
   "codemirror_mode": {
    "name": "ipython",
    "version": 3
   },
   "file_extension": ".py",
   "mimetype": "text/x-python",
   "name": "python",
   "nbconvert_exporter": "python",
   "pygments_lexer": "ipython3",
   "version": "3.8.12"
  }
 },
 "nbformat": 4,
 "nbformat_minor": 5
}